{
 "cells": [
  {
   "cell_type": "markdown",
   "metadata": {},
   "source": [
    "# Understanding encodings"
   ]
  },
  {
   "cell_type": "markdown",
   "metadata": {},
   "source": [
    "Below is a summary of the compatibility with different encodings on reading and writing files."
   ]
  },
  {
   "cell_type": "markdown",
   "metadata": {},
   "source": [
    "\n",
    "\n",
    "| Type of Character | Compatible with utf8  | Compatible with ascii |Compatible with latin-1\n",
    "|------|------|-----|---|\n",
    "|   ASCII (0-127) | Yes|Yes|Yes|\n",
    "|   Extended ASCII (128-255)  | Yes|No|Reads a different character|\n",
    "|   Unicode  | Yes|No|Reads a different character|\n"
   ]
  },
  {
   "cell_type": "markdown",
   "metadata": {},
   "source": [
    "### <b>ASCII Characters 0-127</b>"
   ]
  },
  {
   "cell_type": "markdown",
   "metadata": {},
   "source": [
    "Open a file with ASCII encoding and write to the file string <b>'ab'</b>. "
   ]
  },
  {
   "cell_type": "code",
   "execution_count": 5,
   "metadata": {
    "collapsed": true
   },
   "outputs": [],
   "source": [
    "import codecs\n",
    "\n",
    "c = 'ab'\n",
    "f = codecs.open('test_ascii_1.txt', encoding='ascii', mode='w+')\n",
    "f.write(c)\n",
    "f.close()"
   ]
  },
  {
   "cell_type": "markdown",
   "metadata": {},
   "source": [
    "Read the file written in <b>ASCII</b> back with <b>ASCII</b> encoding gives the right text"
   ]
  },
  {
   "cell_type": "code",
   "execution_count": 16,
   "metadata": {
    "collapsed": false
   },
   "outputs": [
    {
     "name": "stdout",
     "output_type": "stream",
     "text": [
      "ab\n"
     ]
    }
   ],
   "source": [
    "f_openWithASCII = codecs.open('test_ascii_1.txt', encoding='ascii', mode='r+')\n",
    "s = f_openWithASCII.read()\n",
    "print s\n",
    "f_openWithASCII.close()"
   ]
  },
  {
   "cell_type": "markdown",
   "metadata": {},
   "source": [
    "Read the file written in <b>ASCII</b> with <b>utf-8</b> encoding gives the right text."
   ]
  },
  {
   "cell_type": "code",
   "execution_count": 23,
   "metadata": {
    "collapsed": false
   },
   "outputs": [
    {
     "name": "stdout",
     "output_type": "stream",
     "text": [
      "ab\n"
     ]
    }
   ],
   "source": [
    "f_openWithUTF8 = codecs.open('test_ascii_1.txt', encoding='utf-8', mode='r+')\n",
    "s = f_openWithUTF8.read()\n",
    "print s\n",
    "f_openWithUTF8.close()"
   ]
  },
  {
   "cell_type": "markdown",
   "metadata": {},
   "source": [
    "Read the file written in <b>ASCII</b> with <b>latin-1</b> encoding gives the right text."
   ]
  },
  {
   "cell_type": "code",
   "execution_count": 27,
   "metadata": {
    "collapsed": false
   },
   "outputs": [
    {
     "name": "stdout",
     "output_type": "stream",
     "text": [
      "ab\n"
     ]
    }
   ],
   "source": [
    "out_file = codecs.open('test_ascii_1.txt', encoding='latin-1', mode='r+')\n",
    "s = out_file.read()\n",
    "print s\n",
    "out_file.close()"
   ]
  },
  {
   "cell_type": "markdown",
   "metadata": {},
   "source": [
    "-----"
   ]
  },
  {
   "cell_type": "markdown",
   "metadata": {},
   "source": [
    "Open a file with <b>utf-8</b> encoding and write to the file string <b>'ab'</b>. "
   ]
  },
  {
   "cell_type": "code",
   "execution_count": 30,
   "metadata": {
    "collapsed": false
   },
   "outputs": [],
   "source": [
    "import sys\n",
    "\n",
    "reload(sys)\n",
    "sys.setdefaultencoding('utf8')\n",
    "\n",
    "c='ab'\n",
    "f = codecs.open('test_utf8_1.txt', encoding='utf-8', mode='w+')\n",
    "f.write(c)\n",
    "f.close()"
   ]
  },
  {
   "cell_type": "markdown",
   "metadata": {},
   "source": [
    "Read the file written in <b>utf-8</b> back with <b>utf-8</b> encoding gives the right character 'ab'"
   ]
  },
  {
   "cell_type": "code",
   "execution_count": 20,
   "metadata": {
    "collapsed": false
   },
   "outputs": [
    {
     "name": "stdout",
     "output_type": "stream",
     "text": [
      "ab\n"
     ]
    }
   ],
   "source": [
    "f_openWithUTF8 = codecs.open('test_utf8_1.txt', encoding='utf-8', mode='r+')\n",
    "s = f_openWithUTF8.read()\n",
    "print s\n",
    "f_openWithUTF8.close()"
   ]
  },
  {
   "cell_type": "markdown",
   "metadata": {},
   "source": [
    "Read the file written in <b>utf-8</b> back with <b>ASCII</b> encoding produces the right text."
   ]
  },
  {
   "cell_type": "code",
   "execution_count": 19,
   "metadata": {
    "collapsed": false
   },
   "outputs": [
    {
     "name": "stdout",
     "output_type": "stream",
     "text": [
      "ab\n"
     ]
    }
   ],
   "source": [
    "f_openWithASCII = codecs.open('test_utf8_1.txt', encoding='ascii', mode='r+')\n",
    "s = f_openWithASCII.read()\n",
    "print s\n",
    "f_openWithASCII.close()"
   ]
  },
  {
   "cell_type": "markdown",
   "metadata": {},
   "source": [
    "Read the file written in <b>utf-8</b> with <b>latin-1</b> encoding produces the right text."
   ]
  },
  {
   "cell_type": "code",
   "execution_count": 25,
   "metadata": {
    "collapsed": false
   },
   "outputs": [
    {
     "name": "stdout",
     "output_type": "stream",
     "text": [
      "ab\n"
     ]
    }
   ],
   "source": [
    "out_file = codecs.open('test_utf8_1.txt', encoding='latin-1', mode='r+')\n",
    "s = out_file.read()\n",
    "print s\n",
    "out_file.close()"
   ]
  },
  {
   "cell_type": "code",
   "execution_count": 40,
   "metadata": {
    "collapsed": false
   },
   "outputs": [
    {
     "data": {
      "text/plain": [
       "0"
      ]
     },
     "execution_count": 40,
     "metadata": {},
     "output_type": "execute_result"
    }
   ],
   "source": [
    "# import os\n",
    "# clear = lambda: os.system('cls')\n",
    "# clear()"
   ]
  },
  {
   "cell_type": "code",
   "execution_count": 31,
   "metadata": {
    "collapsed": false
   },
   "outputs": [
    {
     "data": {
      "text/plain": [
       "'utf8'"
      ]
     },
     "execution_count": 31,
     "metadata": {},
     "output_type": "execute_result"
    }
   ],
   "source": [
    "# sys.getdefaultencoding()"
   ]
  },
  {
   "cell_type": "markdown",
   "metadata": {},
   "source": [
    "*******"
   ]
  },
  {
   "cell_type": "markdown",
   "metadata": {},
   "source": [
    "### <b>Extended ASCII Characters (128-255)</b>"
   ]
  },
  {
   "cell_type": "markdown",
   "metadata": {},
   "source": [
    "Open a file with ascii encoding and try writing to the file an extended ascii character <b>'â'</b>\n",
    "This fails as it is not possible to store an extended ASCII character in an ASCII encoding file.<break>It throws error that 'ascii' can't decode the byte."
   ]
  },
  {
   "cell_type": "code",
   "execution_count": 13,
   "metadata": {
    "collapsed": false
   },
   "outputs": [
    {
     "name": "stdout",
     "output_type": "stream",
     "text": [
      "'ascii' codec can't decode byte 0xc3 in position 0: ordinal not in range(128)\n"
     ]
    }
   ],
   "source": [
    "c = 'â'\n",
    "try:\n",
    "    f = codecs.open('test_extendedASCII.txt', encoding='ascii', mode='w+')\n",
    "    f.write(c)\n",
    "    f.close()\n",
    "except ValueError as error:\n",
    "    print error"
   ]
  },
  {
   "cell_type": "markdown",
   "metadata": {},
   "source": [
    "Open a file with <b>utf-8</b> encoding and write to the file character <b>'â'</b>. "
   ]
  },
  {
   "cell_type": "code",
   "execution_count": 42,
   "metadata": {
    "collapsed": true
   },
   "outputs": [],
   "source": [
    "c = 'â'\n",
    "f_ext_char = codecs.open('test_extendedUTF-8.txt', encoding='utf-8', mode='w+')\n",
    "f_ext_char.write(c)\n",
    "f_ext_char.close()"
   ]
  },
  {
   "cell_type": "markdown",
   "metadata": {},
   "source": [
    "Read the <i>extended character</i> written in <b>utf-8</b> encoding file with <b>ASCII</b> encoding.\n",
    "This fails since a file containing extended ASCII characters cannot be read with ASCII encoding.  "
   ]
  },
  {
   "cell_type": "code",
   "execution_count": 14,
   "metadata": {
    "collapsed": false
   },
   "outputs": [
    {
     "name": "stdout",
     "output_type": "stream",
     "text": [
      "'ascii' codec can't decode byte 0xc3 in position 0: ordinal not in range(128)\n"
     ]
    }
   ],
   "source": [
    "try:\n",
    "    f_read_ext_char = codecs.open('test_extendedUTF-8.txt', encoding='ascii', mode='r+')\n",
    "    char_read = f_read_ext_char.read()\n",
    "    print char_read\n",
    "    f_read_ext_char.close()\n",
    "except ValueError as error:\n",
    "    print error"
   ]
  },
  {
   "cell_type": "markdown",
   "metadata": {},
   "source": [
    "Read the <i>extended character</i> written in <b>utf-8</b> encoding file with <b>utf-8</b> encoding.\n",
    "This produces right text."
   ]
  },
  {
   "cell_type": "code",
   "execution_count": 18,
   "metadata": {
    "collapsed": false
   },
   "outputs": [
    {
     "name": "stdout",
     "output_type": "stream",
     "text": [
      "â\n"
     ]
    }
   ],
   "source": [
    "f_read_ext_char = codecs.open('test_extendedUTF-8.txt', encoding='utf-8', mode='r+')\n",
    "char_read = f_read_ext_char.read()\n",
    "print char_read\n",
    "f_read_ext_char.close()"
   ]
  },
  {
   "cell_type": "markdown",
   "metadata": {},
   "source": [
    "Read the <i>extended character</i> written in <b>utf-8</b> encoding with <b>latin-1</b> encoding. This returns a different character 'Ã¢' instead of â"
   ]
  },
  {
   "cell_type": "code",
   "execution_count": 22,
   "metadata": {
    "collapsed": false
   },
   "outputs": [
    {
     "name": "stdout",
     "output_type": "stream",
     "text": [
      "Ã¢\n"
     ]
    }
   ],
   "source": [
    "out_file = codecs.open('test_extendedUTF-8.txt', encoding='latin-1', mode='r+')\n",
    "char_read = out_file.read()\n",
    "print char_read\n",
    "out_file.close()"
   ]
  },
  {
   "cell_type": "markdown",
   "metadata": {},
   "source": [
    "-------"
   ]
  },
  {
   "cell_type": "markdown",
   "metadata": {},
   "source": [
    "### <b>Unicode characters</b> "
   ]
  },
  {
   "cell_type": "markdown",
   "metadata": {},
   "source": [
    "Open a file with <b>ASCII</b> encoding and write to the file a <i>unicode character</i> like <b>'Ђ'</b> which is 'CYRILLIC CAPITAL LETTER DJE' (U+0402).\n",
    "This fails as it is not possible to write a unicode character to a file in ASCII Encoding."
   ]
  },
  {
   "cell_type": "code",
   "execution_count": 15,
   "metadata": {
    "collapsed": false
   },
   "outputs": [
    {
     "name": "stdout",
     "output_type": "stream",
     "text": [
      "'ascii' codec can't decode byte 0xd0 in position 0: ordinal not in range(128)\n"
     ]
    }
   ],
   "source": [
    "chr1 = 'Ђ'\n",
    "try:\n",
    "    f = codecs.open('test_unicode_to_ascii.txt', encoding='ascii', mode='w+')\n",
    "    f.write(chr1)\n",
    "    f.close()\n",
    "except ValueError as error:\n",
    "    print error\n",
    "    "
   ]
  },
  {
   "cell_type": "markdown",
   "metadata": {},
   "source": [
    "Open a file with <b>utf-8</b> encoding and write to the file character <b>'Ђ'</b> . "
   ]
  },
  {
   "cell_type": "code",
   "execution_count": 57,
   "metadata": {
    "collapsed": true
   },
   "outputs": [],
   "source": [
    "f = codecs.open('test_unicode2.txt', encoding='utf-8', mode='w+')\n",
    "f.write(chr1)\n",
    "f.close()"
   ]
  },
  {
   "cell_type": "code",
   "execution_count": 58,
   "metadata": {
    "collapsed": false
   },
   "outputs": [
    {
     "data": {
      "text/plain": [
       "'utf8'"
      ]
     },
     "execution_count": 58,
     "metadata": {},
     "output_type": "execute_result"
    }
   ],
   "source": [
    "sys.getdefaultencoding()"
   ]
  },
  {
   "cell_type": "markdown",
   "metadata": {},
   "source": [
    "Read the <i>unicode</i> character written in <b>utf-8</b> encoding file with <b>utf-8</b> encoding. This produces the right result."
   ]
  },
  {
   "cell_type": "code",
   "execution_count": 17,
   "metadata": {
    "collapsed": false
   },
   "outputs": [
    {
     "name": "stdout",
     "output_type": "stream",
     "text": [
      "Ђ\n"
     ]
    }
   ],
   "source": [
    "f_read_unicode_char = codecs.open('test_unicode2.txt', encoding='utf-8', mode='r+')\n",
    "char_read = f_read_unicode_char.read()\n",
    "print char_read\n",
    "f_read_unicode_char.close()"
   ]
  },
  {
   "cell_type": "markdown",
   "metadata": {},
   "source": [
    "Read the <i>unicode</i> character written in <b>utf-8</b> encoding file with <b>latin-1</b> encoding. A different character Ð is read instead of Ђ"
   ]
  },
  {
   "cell_type": "code",
   "execution_count": 21,
   "metadata": {
    "collapsed": false
   },
   "outputs": [
    {
     "name": "stdout",
     "output_type": "stream",
     "text": [
      "Ð\n"
     ]
    }
   ],
   "source": [
    "out_file = codecs.open('test_unicode2.txt', encoding='latin-1', mode='r+')\n",
    "char_read = out_file.read()\n",
    "print char_read\n",
    "out_file.close()"
   ]
  },
  {
   "cell_type": "code",
   "execution_count": null,
   "metadata": {
    "collapsed": true
   },
   "outputs": [],
   "source": []
  }
 ],
 "metadata": {
  "kernelspec": {
   "display_name": "Python 2",
   "language": "python",
   "name": "python2"
  },
  "language_info": {
   "codemirror_mode": {
    "name": "ipython",
    "version": 2
   },
   "file_extension": ".py",
   "mimetype": "text/x-python",
   "name": "python",
   "nbconvert_exporter": "python",
   "pygments_lexer": "ipython2",
   "version": "2.7.13"
  }
 },
 "nbformat": 4,
 "nbformat_minor": 2
}
